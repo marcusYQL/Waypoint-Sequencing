{
 "cells": [
  {
   "cell_type": "code",
   "execution_count": 1,
   "id": "e239c508",
   "metadata": {},
   "outputs": [],
   "source": [
    "import pandas as pd"
   ]
  },
  {
   "cell_type": "code",
   "execution_count": 2,
   "id": "548162db",
   "metadata": {},
   "outputs": [],
   "source": [
    "past_full = pd.read_csv('whole_27_03_23.csv')"
   ]
  },
  {
   "cell_type": "code",
   "execution_count": 3,
   "id": "3a955de3",
   "metadata": {},
   "outputs": [],
   "source": [
    "one = pd.read_csv('C:/Users/Marcus/Desktop/Being Worked On/Waypoint Sequencing/repository/03_23/04_03_23/to_upload_04_03_23.csv')\n",
    "# two = pd.read_csv('C:/Users/marcus.lee/Desktop/Being Worked On/Waypoint Sequencing/repository/03_23/01_03_23/to_upload_01_03_23.csv')\n",
    "# three = pd.read_csv('C:/Users/marcus.lee/Desktop/Being Worked On/Waypoint Sequencing/repository/03_23/02_03_23/to_upload_02_03_23.csv')"
   ]
  },
  {
   "cell_type": "code",
   "execution_count": 4,
   "id": "d4df4bd6",
   "metadata": {},
   "outputs": [],
   "source": [
    "epoch = 'C:/Users/marcus.lee/Desktop/Being Worked On/Waypoint Sequencing/repository/'"
   ]
  },
  {
   "cell_type": "code",
   "execution_count": 5,
   "id": "8bbbaa02",
   "metadata": {},
   "outputs": [],
   "source": [
    "# one = pd.read_csv(epoch+'01_23/03_01_23/to_upload_03_01_23.csv')\n",
    "# two = pd.read_csv(epoch+'01_23/04_01_23/to_upload_04_01_23.csv')\n",
    "# three = pd.read_csv(epoch+'01_23/05_01_23/to_upload_05_01_23.csv')\n",
    "# four = pd.read_csv(epoch+'02_23/01_02_23/to_upload_01_02_23.csv')\n",
    "# five = pd.read_csv(epoch+'02_23/02_02_23/to_upload_02_02_23.csv')\n",
    "# six = pd.read_csv(epoch+'02_23/03_02_23/to_upload_03_02_23.csv')\n",
    "# seven = pd.read_csv(epoch+'02_23/04_02_23/to_upload_04_02_23.csv')\n",
    "# eight = pd.read_csv(epoch+'03_23/01_03_23/to_upload_01_03_23.csv')\n",
    "# nine = pd.read_csv(epoch+'03_23/02_03_23/to_upload_02_03_23.csv')\n",
    "# ten = pd.read_csv(epoch+'03_23/03_03_23/to_upload_03_03_23.csv')"
   ]
  },
  {
   "cell_type": "code",
   "execution_count": 6,
   "id": "65d62d25",
   "metadata": {},
   "outputs": [],
   "source": [
    "addons = pd.concat([one])"
   ]
  },
  {
   "cell_type": "code",
   "execution_count": 7,
   "id": "72fccd42",
   "metadata": {},
   "outputs": [],
   "source": [
    "whole = pd.concat([past_full,addons])"
   ]
  },
  {
   "cell_type": "code",
   "execution_count": 8,
   "id": "cfcb9f50",
   "metadata": {},
   "outputs": [],
   "source": [
    "whole.to_csv('whole_05_04_23.csv',index=False)"
   ]
  },
  {
   "cell_type": "code",
   "execution_count": null,
   "id": "248ee3e4",
   "metadata": {},
   "outputs": [],
   "source": []
  }
 ],
 "metadata": {
  "kernelspec": {
   "display_name": "Python 3 (ipykernel)",
   "language": "python",
   "name": "python3"
  },
  "language_info": {
   "codemirror_mode": {
    "name": "ipython",
    "version": 3
   },
   "file_extension": ".py",
   "mimetype": "text/x-python",
   "name": "python",
   "nbconvert_exporter": "python",
   "pygments_lexer": "ipython3",
   "version": "3.10.8"
  }
 },
 "nbformat": 4,
 "nbformat_minor": 5
}
