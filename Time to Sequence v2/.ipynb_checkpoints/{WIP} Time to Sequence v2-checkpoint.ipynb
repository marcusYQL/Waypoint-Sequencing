{
 "cells": [
  {
   "cell_type": "code",
   "execution_count": null,
   "id": "766bbf6d-6abf-45c0-b91e-98a8ba5f4a98",
   "metadata": {},
   "outputs": [],
   "source": [
    "# Import packages to help with data cleaning, structuring, and aggregation\n",
    "import pandas as pd"
   ]
  },
  {
   "cell_type": "code",
   "execution_count": null,
   "id": "f8817b27-f826-43a0-9167-aa0fb32f1326",
   "metadata": {},
   "outputs": [],
   "source": [
    "# Import the Mixpanel time to sequence event data\n",
    "\n",
    "df = pd.read_csv('df.csv')"
   ]
  },
  {
   "cell_type": "code",
   "execution_count": null,
   "id": "0ae56ec4-633c-4d1e-9461-05e3756b575a",
   "metadata": {},
   "outputs": [],
   "source": [
    "# Convert the time variable into a datetime variable for easier calculation in the future\n",
    "df['event_time'] = pd.to_datetime(df['event_time'], format='%Y-%m-%d %H:%M:%S')"
   ]
  },
  {
   "cell_type": "code",
   "execution_count": null,
   "id": "0ef75d1b-8237-43d0-a6a8-3295f5bf1d55",
   "metadata": {},
   "outputs": [],
   "source": [
    "# df['button_name'].unique()"
   ]
  },
  {
   "cell_type": "code",
   "execution_count": null,
   "id": "3f4fc175-faa9-400e-8616-fc2d1738b830",
   "metadata": {},
   "outputs": [],
   "source": [
    "# For each route, create 'blocks' of events as the driver can start the sequencing process multiple times\n",
    "# But we want to count all of these individually and not as 1 block, that will lead to severe overestimation\n",
    "\n",
    "route_id = []\n",
    "start_event_button_name = []\n",
    "start_event_time = []\n",
    "\n",
    "end_event_button_name = []\n",
    "end_event_time = []\n",
    "time_between = []\n",
    "\n",
    "for i in df['route_id'].unique():\n",
    "    temp = df.loc[df['route_id']==i].reset_index(drop=True)\n",
    "\n",
    "    temp2 = temp.loc[temp['button_name']=='start_sequencing'].reset_index()\n",
    "    if len(temp2) == 0:\n",
    "        continue\n",
    "\n",
    "    temp3 = temp.loc[temp['button_name']=='confirm_sequence'].reset_index()\n",
    "    if len(temp3) == 0:\n",
    "        continue\n",
    "    # print(temp2)\n",
    "\n",
    "    start = []\n",
    "    end = []\n",
    "\n",
    "    for j in range(0,len(temp2['index'])-1):\n",
    "        cur = temp2.iloc[j]\n",
    "        nex = temp2.iloc[j+1]\n",
    "        # print(cur)\n",
    "        # print(nex)\n",
    "        # print()\n",
    "\n",
    "        start.append(cur['index'])\n",
    "        end.append(nex['index'])\n",
    "\n",
    "    start.append(temp2.iloc[-1]['index'])\n",
    "    end.append(temp3.iloc[0]['index'])\n",
    "    order = pd.DataFrame({'start':start,'end':end})\n",
    "\n",
    "    for x in range(0,len(order)):\n",
    "        temp4 = order.iloc[x]\n",
    "        \n",
    "        temp5 = temp.iloc[temp4['start']:temp4['end']]\n",
    "        if len(temp5) == 0:\n",
    "            continue\n",
    "            \n",
    "        route_id.append(i)\n",
    "        start_event_button_name.append(temp5.iloc[0]['button_name'])\n",
    "        start_event_time.append(temp5.iloc[0]['event_time'])\n",
    "\n",
    "        end_event_button_name.append(temp5.iloc[-1]['button_name'])\n",
    "        end_event_time.append(temp5.iloc[-1]['event_time'])\n",
    "        time_between.append( (temp5.iloc[-1]['event_time']-temp5.iloc[0]['event_time']).seconds/60 )"
   ]
  },
  {
   "cell_type": "code",
   "execution_count": null,
   "id": "8276e7ee-6fca-481b-9446-964ee5d86294",
   "metadata": {},
   "outputs": [],
   "source": [
    "df2 = pd.DataFrame({'route_id':route_id,'start_event_button_name':start_event_button_name,'start_event_time':start_event_time,\n",
    "              'end_event_button_name':end_event_button_name,'end_event_time':end_event_time,\n",
    "              'time_between':time_between})"
   ]
  },
  {
   "cell_type": "code",
   "execution_count": null,
   "id": "e5c1e160-eaf2-4bdb-a53b-bbf27a8dbeb0",
   "metadata": {},
   "outputs": [],
   "source": [
    "# Combining all the individual times of each route\n",
    "\n",
    "df3 = df2.groupby('route_id')['time_between'].sum().reset_index()\n",
    "df3"
   ]
  }
 ],
 "metadata": {
  "kernelspec": {
   "display_name": "Python 3 (ipykernel)",
   "language": "python",
   "name": "python3"
  },
  "language_info": {
   "codemirror_mode": {
    "name": "ipython",
    "version": 3
   },
   "file_extension": ".py",
   "mimetype": "text/x-python",
   "name": "python",
   "nbconvert_exporter": "python",
   "pygments_lexer": "ipython3",
   "version": "3.11.4"
  }
 },
 "nbformat": 4,
 "nbformat_minor": 5
}
