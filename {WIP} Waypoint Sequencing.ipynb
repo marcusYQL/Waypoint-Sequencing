{
 "cells": [
  {
   "cell_type": "code",
   "execution_count": null,
   "id": "5e6ece54",
   "metadata": {},
   "outputs": [],
   "source": [
    "import pandas as pd\n",
    "import numpy as np\n",
    "from itertools import groupby\n",
    "import math\n",
    "import matplotlib.pyplot as plt"
   ]
  },
  {
   "cell_type": "code",
   "execution_count": null,
   "id": "643d86c8",
   "metadata": {},
   "outputs": [],
   "source": [
    "month = '03_23'"
   ]
  },
  {
   "cell_type": "code",
   "execution_count": null,
   "id": "c2fc4108",
   "metadata": {},
   "outputs": [],
   "source": [
    "indexer = '04_03_23'"
   ]
  },
  {
   "cell_type": "code",
   "execution_count": null,
   "id": "90f1a3d1",
   "metadata": {},
   "outputs": [],
   "source": [
    "seq = pd.read_csv('repository/' + month + '/' + indexer + '/' + 'route_sequence_' + indexer + '.csv')"
   ]
  },
  {
   "cell_type": "code",
   "execution_count": null,
   "id": "37313fe9",
   "metadata": {},
   "outputs": [],
   "source": [
    "# seq[seq.route_id==1882408]"
   ]
  },
  {
   "cell_type": "code",
   "execution_count": null,
   "id": "6109d01e",
   "metadata": {},
   "outputs": [],
   "source": [
    "wp = pd.read_csv('repository/' + month + '/' + indexer + '/' + 'travel_order_' + indexer + '.csv')"
   ]
  },
  {
   "cell_type": "code",
   "execution_count": null,
   "id": "7c782375",
   "metadata": {},
   "outputs": [],
   "source": [
    "# wp"
   ]
  },
  {
   "cell_type": "code",
   "execution_count": null,
   "id": "ca409c38",
   "metadata": {},
   "outputs": [],
   "source": [
    "routes = seq[['route_id']].merge(wp[['route_id']], on='route_id')['route_id'].unique()"
   ]
  },
  {
   "cell_type": "code",
   "execution_count": null,
   "id": "3d734286",
   "metadata": {},
   "outputs": [],
   "source": []
  },
  {
   "cell_type": "code",
   "execution_count": null,
   "id": "7469eb93",
   "metadata": {},
   "outputs": [],
   "source": [
    "# for i in routes[7:8]:\n",
    "#     temp = wp[wp['route_id'] == i].reset_index(drop=True)\n",
    "#     temp_wp = temp['waypoint_id'].values.tolist() #actual\n",
    "    \n",
    "#     try:\n",
    "#         temp_seq_wp = seq[seq['route_id'] == i]['waypoint_ids'].values.tolist()[0].split(',')\n",
    "#     except:\n",
    "#         continue\n",
    "#     temp_seq_wp = list(map(int, temp_seq_wp))\n",
    "#     print(temp_wp) # actual travel - usually more\n",
    "#     print()\n",
    "#     print(temp_seq_wp) # sequenced\n",
    "#     print()\n",
    "    \n",
    "#     save3 = temp_wp\n",
    "#     save4 = [key for key, _group in groupby(save3)]\n",
    "#     save4 = [item for item in save4 if not(math.isnan(item)) == True]\n",
    "#     save4 = [int(a) for a in save4]\n",
    "#     print(save4)"
   ]
  },
  {
   "cell_type": "code",
   "execution_count": null,
   "id": "7fd17486",
   "metadata": {},
   "outputs": [],
   "source": [
    "# Most strict Adherence - waypoint to waypoint\n",
    "route_id = []\n",
    "driver_name = []\n",
    "no_waypoints = []\n",
    "adherence = []\n",
    "route_sequence_date = []\n",
    "route_date = []\n",
    "waypoint_deviation = []\n",
    "no_waypoints_traveled_not_sequenced = []\n",
    "\n",
    "for i in routes:\n",
    "    counter = 0 # For no_waypoints_traveled_not_sequenced\n",
    "    temp = wp[wp['route_id'] == i].reset_index(drop=True)\n",
    "    temp_wp = temp['waypoint_id'].values.tolist() #actual\n",
    "    \n",
    "    try:\n",
    "        temp_seq_wp = seq[seq['route_id'] == i]['waypoint_ids'].values.tolist()[0].split(',')\n",
    "    except:\n",
    "        continue\n",
    "    temp_seq_wp = list(map(int, temp_seq_wp))\n",
    "    \n",
    "    save = temp_wp\n",
    "    save2 = [key for key, _group in groupby(save)]\n",
    "    save3 = [item for item in save2 if not(math.isnan(item)) == True]\n",
    "    save4 = [int(a) for a in save3]\n",
    "    temp_wp = save4\n",
    "    \n",
    "    deviation = []\n",
    "    for j in range(0, len(temp_wp)):\n",
    "        actual = temp_wp[j]\n",
    "        try:\n",
    "            sequenced = temp_seq_wp.index(actual)\n",
    "        except:\n",
    "            counter += 1 # ValueError: 164366741 is not in list\n",
    "                \n",
    "        deviation.append(abs(j-sequenced))\n",
    "    waypoint_deviation.append( float(sum(deviation)) / float(len(temp_wp)) )\n",
    "    no_waypoints_traveled_not_sequenced.append(counter)\n",
    "            \n",
    "    n = sum(x==y for x, y in zip(temp_wp, temp_seq_wp))\n",
    "    \n",
    "    route_id.append(i)\n",
    "    driver_name.append(temp['driver_name'].iloc[0])\n",
    "    no_waypoints.append(len(temp_wp))\n",
    "    route_sequence_date.append(temp['route_sequence_date'].iloc[0])\n",
    "    route_date.append(temp['route_date'].iloc[0])\n",
    "    adherence.append( float(n)/float(len(temp_wp)) )\n"
   ]
  },
  {
   "cell_type": "code",
   "execution_count": null,
   "id": "44370098",
   "metadata": {},
   "outputs": [],
   "source": [
    "strict_adherence = pd.DataFrame({'route_id':route_id, 'route_sequence_date':route_sequence_date, 'route_date':route_date,\n",
    "                                 'driver_name':driver_name, 'no_waypoints':no_waypoints, 'strictest_adherence':adherence,\n",
    "                                 'waypoint_average_deviation':waypoint_deviation,'no_waypoints_traveled_not_sequenced':no_waypoints_traveled_not_sequenced})"
   ]
  },
  {
   "cell_type": "code",
   "execution_count": null,
   "id": "e0990ab2",
   "metadata": {},
   "outputs": [],
   "source": [
    "# strict_adherence[strict_adherence['adherence']!=0]\n",
    "strict_adherence[strict_adherence['no_waypoints_traveled_not_sequenced']!=0]\n",
    "# strict_adherence[strict_adherence['waypoint_average_deviation'].isnull()]"
   ]
  },
  {
   "cell_type": "code",
   "execution_count": null,
   "id": "9f386911",
   "metadata": {},
   "outputs": [],
   "source": []
  },
  {
   "cell_type": "code",
   "execution_count": null,
   "id": "e0d031a8",
   "metadata": {},
   "outputs": [],
   "source": [
    "# Postcode adherence\n",
    "route_id = []\n",
    "driver_name = []\n",
    "no_waypoints = []\n",
    "weird_travel_flag = []\n",
    "weird_sequence_flag = []\n",
    "same_same_flag = []\n",
    "\n",
    "for i in routes:\n",
    "    temp = wp[wp['route_id'] == i].reset_index(drop=True)\n",
    "    temp_wp = temp['waypoint_id'].values.tolist()\n",
    "    \n",
    "    try:\n",
    "        temp_seq_wp = seq[seq['route_id'] == i]['waypoint_ids'].values.tolist()[0].split(',')\n",
    "    except:\n",
    "        continue\n",
    "        \n",
    "    route_id.append(i)\n",
    "    driver_name.append(temp['driver_name'].iloc[0])\n",
    "    no_waypoints.append(len(temp_wp))\n",
    "    \n",
    "    temp_seq_wp = list(map(int, temp_seq_wp))\n",
    "    \n",
    "#     print(temp[['waypoint_ID','postcode']])\n",
    "    save = temp['postcode']\n",
    "    save2 = [key for key, _group in groupby(save)]\n",
    "#     print(save2)\n",
    "    \n",
    "    temp_seq_wp2 = pd.DataFrame({'waypoint_id':temp_seq_wp})\n",
    "    temp_seq_wp3 = temp_seq_wp2.merge(temp[['waypoint_id','postcode']], on='waypoint_id',how='left')#.drop_duplicates(subset=['postcode'])['postcode']\n",
    "\n",
    "    save3 = temp_seq_wp3['postcode']\n",
    "    save4 = [key for key, _group in groupby(save3)]\n",
    "    save4 = [item for item in save4 if not(math.isnan(item)) == True]\n",
    "    save4 = [int(a) for a in save4]\n",
    "#     print()\n",
    "#     print(save4)\n",
    "\n",
    "    if (pd.Series(save2).value_counts()>3).any(): # travelled back to the same postcode > 3 times\n",
    "        weird_travel_flag.append(1)\n",
    "    else:\n",
    "        weird_travel_flag.append(0)\n",
    "    \n",
    "    if (pd.Series(save4).value_counts()>3).any(): # sequenced the route weirdly by placing the same postcode over and over again\n",
    "        weird_sequence_flag.append(1)\n",
    "    else:\n",
    "        weird_sequence_flag.append(0)\n",
    "\n",
    "    if abs(len(save2)-len(save4)) <= 3:\n",
    "        same_same_flag.append(1)\n",
    "    else:\n",
    "        same_same_flag.append(0)"
   ]
  },
  {
   "cell_type": "code",
   "execution_count": null,
   "id": "ec4bd5bb",
   "metadata": {},
   "outputs": [],
   "source": [
    "test = pd.DataFrame({'route_id':route_id,'driver_name':driver_name,'no_waypoints':no_waypoints,'weird_travel_flag':weird_travel_flag,\n",
    "                     'weird_sequence_flag':weird_sequence_flag, 'same_same_flag':same_same_flag})"
   ]
  },
  {
   "cell_type": "code",
   "execution_count": null,
   "id": "8e3ac45f",
   "metadata": {},
   "outputs": [],
   "source": [
    "len(test)"
   ]
  },
  {
   "cell_type": "code",
   "execution_count": null,
   "id": "3749219d",
   "metadata": {},
   "outputs": [],
   "source": [
    "# test2 = test[ (test['same_same_flag']==1) & (test['weird_travel_flag']==0) & (test['weird_sequence_flag']==0)].reset_index(drop=True)\n",
    "# test2\n",
    "\n",
    "test"
   ]
  },
  {
   "cell_type": "code",
   "execution_count": null,
   "id": "cf1ea6a1",
   "metadata": {},
   "outputs": [],
   "source": [
    "routes2 = test['route_id'].values\n",
    "# routes2"
   ]
  },
  {
   "cell_type": "code",
   "execution_count": null,
   "id": "48c444b3",
   "metadata": {},
   "outputs": [],
   "source": []
  },
  {
   "cell_type": "code",
   "execution_count": null,
   "id": "4390952b",
   "metadata": {},
   "outputs": [],
   "source": [
    "route_id2 = []\n",
    "driver_name2 = []\n",
    "no_waypoints2 = []\n",
    "adherence2 = []\n",
    "\n",
    "# [2:3]\n",
    "# [7:8]\n",
    "for i in routes2:\n",
    "    temp = wp[wp['route_id'] == i].reset_index(drop=True)\n",
    "\n",
    "    temp_wp = temp['waypoint_id'].values.tolist() # actual\n",
    "    \n",
    "    new = temp_wp\n",
    "    new2 = [key for key, _group in groupby(new)]\n",
    "    new3 = [item for item in new2 if not(math.isnan(item)) == True]\n",
    "    new4 = [int(a) for a in new3]\n",
    "    temp_wp = new4\n",
    "    \n",
    "    temp_seq_wp = seq[seq['route_id'] == i]['waypoint_ids'].values.tolist()[0].split(',')\n",
    "    temp_seq_wp = list(map(int, temp_seq_wp)) # sequenced\n",
    "    \n",
    "    save = temp['postcode']\n",
    "    save2 = [key for key, _group in groupby(save)]\n",
    "    \n",
    "    temp_seq_wp2 = pd.DataFrame({'waypoint_id':temp_seq_wp})\n",
    "    temp_seq_wp3 = temp_seq_wp2.merge(temp[['waypoint_id','postcode']], on='waypoint_id',how='left')#.drop_duplicates(subset=['postcode'])['postcode']\n",
    "\n",
    "    save3 = temp_seq_wp3['postcode']\n",
    "    save4 = [key for key, _group in groupby(save3)]\n",
    "    save4 = [item for item in save4 if not(math.isnan(item)) == True]\n",
    "    save4 = [int(a) for a in save4]\n",
    "    \n",
    "#     print(save2) # actual\n",
    "#     print(save4) # sequenced -- can get product to help drivers sequence by postcode\n",
    "#     print()\n",
    "    \n",
    "    keep2 = save2.copy()\n",
    "    keep4 = save4.copy()\n",
    "    window_size = 3\n",
    "    \n",
    "    if max(len(save2),len(save4)) < window_size:\n",
    "        continue\n",
    "    else:\n",
    "        route_id2.append(i)\n",
    "        driver_name2.append(temp['driver_name'].iloc[0])\n",
    "        no_waypoints2.append(len(temp_wp))\n",
    "        \n",
    "    adherence_counter = 0\n",
    "    start_index = 0\n",
    "    lives = 3\n",
    "    for j in keep2:\n",
    "        if j in keep4[start_index:window_size]: # may have issues with routes with Landed house rows\n",
    "            keep4.remove(j)\n",
    "            adherence_counter += 1\n",
    "        elif lives > 0: # Moves start_index forward\n",
    "            lives -= 1\n",
    "            start_index = window_size\n",
    "            window_size = window_size + 3\n",
    "    adherence2.append(float(adherence_counter)/float(len(save2)))\n",
    "    "
   ]
  },
  {
   "cell_type": "code",
   "execution_count": null,
   "id": "681fcd74",
   "metadata": {},
   "outputs": [],
   "source": []
  },
  {
   "cell_type": "code",
   "execution_count": null,
   "id": "0b278a36",
   "metadata": {},
   "outputs": [],
   "source": [
    "postcode_adherence = pd.DataFrame({'route_id':route_id2,'driver_name':driver_name2, 'no_waypoints':no_waypoints2,\n",
    "                                   'postcode_adherence':adherence2})\n",
    "# postcode_adherence[postcode_adherence['adherence']<0.5]\n",
    "postcode_adherence['postcode_adherence'].mean()"
   ]
  },
  {
   "cell_type": "code",
   "execution_count": null,
   "id": "73548f05",
   "metadata": {},
   "outputs": [],
   "source": []
  },
  {
   "cell_type": "code",
   "execution_count": null,
   "id": "ae3780ac",
   "metadata": {},
   "outputs": [],
   "source": [
    "postcode_adherence2 = postcode_adherence.merge(pd.DataFrame({'route_id':routes}), on='route_id', how='right')"
   ]
  },
  {
   "cell_type": "code",
   "execution_count": null,
   "id": "3ff5469b",
   "metadata": {},
   "outputs": [],
   "source": [
    "adherence = postcode_adherence2[['route_id','postcode_adherence']].merge(strict_adherence, on='route_id', how='right')\n",
    "adherence = adherence[['route_id','route_sequence_date', 'route_date','driver_name','no_waypoints',\n",
    "                       'strictest_adherence','postcode_adherence','waypoint_average_deviation',\n",
    "                       'no_waypoints_traveled_not_sequenced']]\n",
    "adherence"
   ]
  },
  {
   "cell_type": "code",
   "execution_count": null,
   "id": "5893ea17",
   "metadata": {},
   "outputs": [],
   "source": [
    "# adherence[adherence['postcode_adherence']==0]"
   ]
  },
  {
   "cell_type": "code",
   "execution_count": null,
   "id": "1ab46d5b",
   "metadata": {},
   "outputs": [],
   "source": []
  },
  {
   "cell_type": "code",
   "execution_count": null,
   "id": "5b40a316",
   "metadata": {},
   "outputs": [],
   "source": [
    "start = pd.read_csv('repository/' + month + '/' + indexer + '/' + 'start_sequencing_' + indexer + '.csv')\n",
    "start['time'] = pd.to_datetime(start['time'],format='%Y-%m-%dT%H:%M:%S')\n",
    "start = start[start['time'] >= pd.Timestamp('2023-01-15')]"
   ]
  },
  {
   "cell_type": "code",
   "execution_count": null,
   "id": "7b015cc9",
   "metadata": {},
   "outputs": [],
   "source": [
    "# add = pd.read_csv('repository' + '/' + indexer + '/' + 'add_waypoint_' + indexer + '.csv')\n",
    "# add['time'] = pd.to_datetime(add['time'],format='%Y-%m-%dT%H:%M:%SZ')\n",
    "# add = add[add['time'] >= pd.Timestamp('2023-01-15')]"
   ]
  },
  {
   "cell_type": "code",
   "execution_count": null,
   "id": "9c82f650",
   "metadata": {},
   "outputs": [],
   "source": [
    "end = pd.read_csv('repository/' + month + '/' + indexer + '/' + 'confirm_sequencing_' + indexer + '.csv')\n",
    "end['time'] = pd.to_datetime(end['time'],format='%Y-%m-%dT%H:%M:%S')\n",
    "end = end[end['time'] >= pd.Timestamp('2023-01-15')]"
   ]
  },
  {
   "cell_type": "code",
   "execution_count": null,
   "id": "8d0d4634",
   "metadata": {},
   "outputs": [],
   "source": [
    "new_routes = start[['route_id']].merge(end[['route_id']], on='route_id')['route_id'].unique()"
   ]
  },
  {
   "cell_type": "code",
   "execution_count": null,
   "id": "1d6e829a",
   "metadata": {},
   "outputs": [],
   "source": [
    "route_id = []\n",
    "driver_id = []\n",
    "time_sequence = []\n",
    "start_sequence_counter = []\n",
    "for i in new_routes:\n",
    "    route_id.append(i)\n",
    "    \n",
    "    temp_start = start[start['route_id'] == i]\n",
    "    temp_end = end[end['route_id'] == i]\n",
    "    \n",
    "    start_sequence_counter.append(len(temp_start))\n",
    "    \n",
    "    driver_id.append(temp_start['user_id'].iloc[0])\n",
    "    \n",
    "    earliest = temp_start['time'].min()\n",
    "    latest = temp_end['time'].max()\n",
    "    time_sequence.append( (latest-earliest).seconds/60)"
   ]
  },
  {
   "cell_type": "code",
   "execution_count": null,
   "id": "6f9eb2b4",
   "metadata": {},
   "outputs": [],
   "source": [
    "tts = pd.DataFrame({'route_id':route_id, 'driver_id':driver_id, 'time_to_sequence(min)':time_sequence,'start_sequence_counter':start_sequence_counter})\n",
    "tts"
   ]
  },
  {
   "cell_type": "code",
   "execution_count": null,
   "id": "aeb249d7",
   "metadata": {},
   "outputs": [],
   "source": [
    "plt.hist(tts['time_to_sequence(min)'])"
   ]
  },
  {
   "cell_type": "code",
   "execution_count": null,
   "id": "3c3a31ec",
   "metadata": {},
   "outputs": [],
   "source": [
    "tts2 = tts[tts['time_to_sequence(min)']<=180]\n",
    "plt.hist(tts2['time_to_sequence(min)'])"
   ]
  },
  {
   "cell_type": "code",
   "execution_count": null,
   "id": "b9659120",
   "metadata": {},
   "outputs": [],
   "source": [
    "final = adherence.merge(tts[['route_id','time_to_sequence(min)','start_sequence_counter']], on='route_id', how='inner')\n",
    "final['courier'] = final['driver_name'].str.split('-').str[1].str.strip()\n",
    "final['courier'] = final['courier'].str.split(' ').str[0]\n",
    "final['route_sequence_date'] = pd.to_datetime(final['route_sequence_date'],format='%d/%m/%y').dt.strftime('%m/%d/%y')\n",
    "final['route_date'] = pd.to_datetime(final['route_date'],format='%d/%m/%y').dt.strftime('%m/%d/%y')\n",
    "final"
   ]
  },
  {
   "cell_type": "code",
   "execution_count": null,
   "id": "d55a8617",
   "metadata": {},
   "outputs": [],
   "source": [
    "final = final.sort_values(['route_date','route_id'])\n",
    "final.to_csv('repository/' + month + '/' + indexer + '/' + 'to_upload_' + indexer + '.csv',index=False)"
   ]
  },
  {
   "cell_type": "code",
   "execution_count": null,
   "id": "9e5f6abb",
   "metadata": {},
   "outputs": [],
   "source": []
  },
  {
   "cell_type": "code",
   "execution_count": null,
   "id": "1fc0dffc",
   "metadata": {},
   "outputs": [],
   "source": []
  }
 ],
 "metadata": {
  "kernelspec": {
   "display_name": "Python 3 (ipykernel)",
   "language": "python",
   "name": "python3"
  },
  "language_info": {
   "codemirror_mode": {
    "name": "ipython",
    "version": 3
   },
   "file_extension": ".py",
   "mimetype": "text/x-python",
   "name": "python",
   "nbconvert_exporter": "python",
   "pygments_lexer": "ipython3",
   "version": "3.11.4"
  }
 },
 "nbformat": 4,
 "nbformat_minor": 5
}
