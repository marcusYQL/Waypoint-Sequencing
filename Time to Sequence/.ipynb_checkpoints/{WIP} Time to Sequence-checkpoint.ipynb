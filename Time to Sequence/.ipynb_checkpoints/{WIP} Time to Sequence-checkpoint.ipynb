{
 "cells": [
  {
   "cell_type": "code",
   "execution_count": 1,
   "id": "9723576b",
   "metadata": {},
   "outputs": [],
   "source": [
    "import pandas as pd\n",
    "import matplotlib.pyplot as plt"
   ]
  },
  {
   "cell_type": "code",
   "execution_count": 2,
   "id": "d287d04d",
   "metadata": {},
   "outputs": [],
   "source": [
    "start = pd.read_csv('start.csv')\n",
    "start['time'] = pd.to_datetime(start['time'],format='%Y-%m-%dT%H:%M:%SZ')\n",
    "start = start[start['time'] >= pd.Timestamp('2023-01-15')]"
   ]
  },
  {
   "cell_type": "code",
   "execution_count": 3,
   "id": "8b6526e9",
   "metadata": {},
   "outputs": [],
   "source": [
    "end = pd.read_csv('end.csv')\n",
    "# end['Time'] = pd.to_datetime(end['Time'],unit='s')\n",
    "end['time'] = pd.to_datetime(end['time'],format='%Y-%m-%dT%H:%M:%SZ')\n",
    "end = end[end['time'] >= pd.Timestamp('2023-01-15')]"
   ]
  },
  {
   "cell_type": "code",
   "execution_count": 4,
   "id": "68485de5",
   "metadata": {},
   "outputs": [],
   "source": [
    "routes = start[['route_id']].merge(end[['route_id']], on='route_id')['route_id'].unique()"
   ]
  },
  {
   "cell_type": "code",
   "execution_count": null,
   "id": "f5327d7f",
   "metadata": {},
   "outputs": [],
   "source": []
  },
  {
   "cell_type": "code",
   "execution_count": 8,
   "id": "612e362f",
   "metadata": {},
   "outputs": [],
   "source": [
    "route_id = []\n",
    "driver_id = []\n",
    "time_sequence = []\n",
    "start_sequence_counter = []\n",
    "for i in routes:\n",
    "    route_id.append(i)\n",
    "    \n",
    "    temp_start = start[start['route_id'] == i]\n",
    "    temp_end = end[end['route_id'] == i]\n",
    "    \n",
    "    start_sequence_counter.append(len(temp_start))\n",
    "    \n",
    "    driver_id.append(temp_start['user_id'].iloc[0])\n",
    "    \n",
    "    earliest = temp_start['time'].min()\n",
    "    latest = temp_end['time'].max()\n",
    "    time_sequence.append( (latest-earliest).seconds/60)"
   ]
  },
  {
   "cell_type": "code",
   "execution_count": 9,
   "id": "cac0c3ca",
   "metadata": {},
   "outputs": [],
   "source": [
    "save = pd.DataFrame({'route_id':route_id, 'driver_id':driver_id, 'time_to_sequence(min)':time_sequence,'start_sequence_counter':start_sequence_counter})"
   ]
  },
  {
   "cell_type": "code",
   "execution_count": 10,
   "id": "b1fcf757",
   "metadata": {},
   "outputs": [
    {
     "data": {
      "text/html": [
       "<div>\n",
       "<style scoped>\n",
       "    .dataframe tbody tr th:only-of-type {\n",
       "        vertical-align: middle;\n",
       "    }\n",
       "\n",
       "    .dataframe tbody tr th {\n",
       "        vertical-align: top;\n",
       "    }\n",
       "\n",
       "    .dataframe thead th {\n",
       "        text-align: right;\n",
       "    }\n",
       "</style>\n",
       "<table border=\"1\" class=\"dataframe\">\n",
       "  <thead>\n",
       "    <tr style=\"text-align: right;\">\n",
       "      <th></th>\n",
       "      <th>route_id</th>\n",
       "      <th>driver_id</th>\n",
       "      <th>time_to_sequence(min)</th>\n",
       "      <th>start_sequence_counter</th>\n",
       "    </tr>\n",
       "  </thead>\n",
       "  <tbody>\n",
       "    <tr>\n",
       "      <th>0</th>\n",
       "      <td>1850262</td>\n",
       "      <td>1493620</td>\n",
       "      <td>451.600000</td>\n",
       "      <td>2</td>\n",
       "    </tr>\n",
       "    <tr>\n",
       "      <th>1</th>\n",
       "      <td>1850823</td>\n",
       "      <td>1380521</td>\n",
       "      <td>707.116667</td>\n",
       "      <td>2</td>\n",
       "    </tr>\n",
       "    <tr>\n",
       "      <th>2</th>\n",
       "      <td>1851086</td>\n",
       "      <td>1345548</td>\n",
       "      <td>499.116667</td>\n",
       "      <td>6</td>\n",
       "    </tr>\n",
       "    <tr>\n",
       "      <th>3</th>\n",
       "      <td>1851315</td>\n",
       "      <td>1490918</td>\n",
       "      <td>143.433333</td>\n",
       "      <td>3</td>\n",
       "    </tr>\n",
       "    <tr>\n",
       "      <th>4</th>\n",
       "      <td>1851297</td>\n",
       "      <td>1527326</td>\n",
       "      <td>899.783333</td>\n",
       "      <td>10</td>\n",
       "    </tr>\n",
       "    <tr>\n",
       "      <th>...</th>\n",
       "      <td>...</td>\n",
       "      <td>...</td>\n",
       "      <td>...</td>\n",
       "      <td>...</td>\n",
       "    </tr>\n",
       "    <tr>\n",
       "      <th>3895</th>\n",
       "      <td>1861392</td>\n",
       "      <td>1323077</td>\n",
       "      <td>31.400000</td>\n",
       "      <td>4</td>\n",
       "    </tr>\n",
       "    <tr>\n",
       "      <th>3896</th>\n",
       "      <td>1861231</td>\n",
       "      <td>1477656</td>\n",
       "      <td>37.033333</td>\n",
       "      <td>2</td>\n",
       "    </tr>\n",
       "    <tr>\n",
       "      <th>3897</th>\n",
       "      <td>1861262</td>\n",
       "      <td>1533540</td>\n",
       "      <td>7.350000</td>\n",
       "      <td>1</td>\n",
       "    </tr>\n",
       "    <tr>\n",
       "      <th>3898</th>\n",
       "      <td>1861308</td>\n",
       "      <td>1459852</td>\n",
       "      <td>0.250000</td>\n",
       "      <td>1</td>\n",
       "    </tr>\n",
       "    <tr>\n",
       "      <th>3899</th>\n",
       "      <td>1860997</td>\n",
       "      <td>1532188</td>\n",
       "      <td>5.383333</td>\n",
       "      <td>2</td>\n",
       "    </tr>\n",
       "  </tbody>\n",
       "</table>\n",
       "<p>3900 rows × 4 columns</p>\n",
       "</div>"
      ],
      "text/plain": [
       "      route_id  driver_id  time_to_sequence(min)  start_sequence_counter\n",
       "0      1850262    1493620             451.600000                       2\n",
       "1      1850823    1380521             707.116667                       2\n",
       "2      1851086    1345548             499.116667                       6\n",
       "3      1851315    1490918             143.433333                       3\n",
       "4      1851297    1527326             899.783333                      10\n",
       "...        ...        ...                    ...                     ...\n",
       "3895   1861392    1323077              31.400000                       4\n",
       "3896   1861231    1477656              37.033333                       2\n",
       "3897   1861262    1533540               7.350000                       1\n",
       "3898   1861308    1459852               0.250000                       1\n",
       "3899   1860997    1532188               5.383333                       2\n",
       "\n",
       "[3900 rows x 4 columns]"
      ]
     },
     "execution_count": 10,
     "metadata": {},
     "output_type": "execute_result"
    }
   ],
   "source": [
    "save"
   ]
  },
  {
   "cell_type": "code",
   "execution_count": 11,
   "id": "ba18b77a",
   "metadata": {},
   "outputs": [
    {
     "data": {
      "text/plain": [
       "(array([1.224e+03, 7.360e+02, 6.920e+02, 4.970e+02, 3.670e+02, 2.120e+02,\n",
       "        1.290e+02, 3.600e+01, 6.000e+00, 1.000e+00]),\n",
       " array([5.000000e-02, 1.433550e+02, 2.866600e+02, 4.299650e+02,\n",
       "        5.732700e+02, 7.165750e+02, 8.598800e+02, 1.003185e+03,\n",
       "        1.146490e+03, 1.289795e+03, 1.433100e+03]),\n",
       " <BarContainer object of 10 artists>)"
      ]
     },
     "execution_count": 11,
     "metadata": {},
     "output_type": "execute_result"
    },
    {
     "data": {
      "image/png": "[encoded data removed]",
      "text/plain": [
       "<Figure size 432x288 with 1 Axes>"
      ]
     },
     "metadata": {
      "needs_background": "light"
     },
     "output_type": "display_data"
    }
   ],
   "source": [
    "plt.hist(save['time_to_sequence(min)'])"
   ]
  },
  {
   "cell_type": "code",
   "execution_count": 15,
   "id": "fbdeaea0",
   "metadata": {},
   "outputs": [],
   "source": [
    "save2 = save[save['time_to_sequence(min)']<=180]"
   ]
  },
  {
   "cell_type": "code",
   "execution_count": 16,
   "id": "c8a817bd",
   "metadata": {},
   "outputs": [
    {
     "data": {
      "text/plain": [
       "(array([579., 133., 110.,  75.,  80.,  70.,  87.,  94., 105., 110.]),\n",
       " array([5.00000000e-02, 1.80433333e+01, 3.60366667e+01, 5.40300000e+01,\n",
       "        7.20233333e+01, 9.00166667e+01, 1.08010000e+02, 1.26003333e+02,\n",
       "        1.43996667e+02, 1.61990000e+02, 1.79983333e+02]),\n",
       " <BarContainer object of 10 artists>)"
      ]
     },
     "execution_count": 16,
     "metadata": {},
     "output_type": "execute_result"
    },
    {
     "data": {
      "image/png": "[encoded data removed]",
      "text/plain": [
       "<Figure size 432x288 with 1 Axes>"
      ]
     },
     "metadata": {
      "needs_background": "light"
     },
     "output_type": "display_data"
    }
   ],
   "source": [
    "plt.hist(save2['time_to_sequence(min)'])"
   ]
  },
  {
   "cell_type": "code",
   "execution_count": 17,
   "id": "39756b60",
   "metadata": {},
   "outputs": [
    {
     "data": {
      "text/html": [
       "<div>\n",
       "<style scoped>\n",
       "    .dataframe tbody tr th:only-of-type {\n",
       "        vertical-align: middle;\n",
       "    }\n",
       "\n",
       "    .dataframe tbody tr th {\n",
       "        vertical-align: top;\n",
       "    }\n",
       "\n",
       "    .dataframe thead th {\n",
       "        text-align: right;\n",
       "    }\n",
       "</style>\n",
       "<table border=\"1\" class=\"dataframe\">\n",
       "  <thead>\n",
       "    <tr style=\"text-align: right;\">\n",
       "      <th></th>\n",
       "      <th>route_id</th>\n",
       "      <th>driver_id</th>\n",
       "      <th>time_to_sequence(min)</th>\n",
       "      <th>start_sequence_counter</th>\n",
       "    </tr>\n",
       "  </thead>\n",
       "  <tbody>\n",
       "    <tr>\n",
       "      <th>3</th>\n",
       "      <td>1851315</td>\n",
       "      <td>1490918</td>\n",
       "      <td>143.433333</td>\n",
       "      <td>3</td>\n",
       "    </tr>\n",
       "    <tr>\n",
       "      <th>6</th>\n",
       "      <td>1851132</td>\n",
       "      <td>1519056</td>\n",
       "      <td>158.133333</td>\n",
       "      <td>3</td>\n",
       "    </tr>\n",
       "    <tr>\n",
       "      <th>7</th>\n",
       "      <td>1850773</td>\n",
       "      <td>1487842</td>\n",
       "      <td>144.300000</td>\n",
       "      <td>4</td>\n",
       "    </tr>\n",
       "    <tr>\n",
       "      <th>12</th>\n",
       "      <td>1851352</td>\n",
       "      <td>1192839</td>\n",
       "      <td>88.883333</td>\n",
       "      <td>13</td>\n",
       "    </tr>\n",
       "    <tr>\n",
       "      <th>16</th>\n",
       "      <td>1851211</td>\n",
       "      <td>1531507</td>\n",
       "      <td>161.366667</td>\n",
       "      <td>5</td>\n",
       "    </tr>\n",
       "    <tr>\n",
       "      <th>...</th>\n",
       "      <td>...</td>\n",
       "      <td>...</td>\n",
       "      <td>...</td>\n",
       "      <td>...</td>\n",
       "    </tr>\n",
       "    <tr>\n",
       "      <th>3895</th>\n",
       "      <td>1861392</td>\n",
       "      <td>1323077</td>\n",
       "      <td>31.400000</td>\n",
       "      <td>4</td>\n",
       "    </tr>\n",
       "    <tr>\n",
       "      <th>3896</th>\n",
       "      <td>1861231</td>\n",
       "      <td>1477656</td>\n",
       "      <td>37.033333</td>\n",
       "      <td>2</td>\n",
       "    </tr>\n",
       "    <tr>\n",
       "      <th>3897</th>\n",
       "      <td>1861262</td>\n",
       "      <td>1533540</td>\n",
       "      <td>7.350000</td>\n",
       "      <td>1</td>\n",
       "    </tr>\n",
       "    <tr>\n",
       "      <th>3898</th>\n",
       "      <td>1861308</td>\n",
       "      <td>1459852</td>\n",
       "      <td>0.250000</td>\n",
       "      <td>1</td>\n",
       "    </tr>\n",
       "    <tr>\n",
       "      <th>3899</th>\n",
       "      <td>1860997</td>\n",
       "      <td>1532188</td>\n",
       "      <td>5.383333</td>\n",
       "      <td>2</td>\n",
       "    </tr>\n",
       "  </tbody>\n",
       "</table>\n",
       "<p>1443 rows × 4 columns</p>\n",
       "</div>"
      ],
      "text/plain": [
       "      route_id  driver_id  time_to_sequence(min)  start_sequence_counter\n",
       "3      1851315    1490918             143.433333                       3\n",
       "6      1851132    1519056             158.133333                       3\n",
       "7      1850773    1487842             144.300000                       4\n",
       "12     1851352    1192839              88.883333                      13\n",
       "16     1851211    1531507             161.366667                       5\n",
       "...        ...        ...                    ...                     ...\n",
       "3895   1861392    1323077              31.400000                       4\n",
       "3896   1861231    1477656              37.033333                       2\n",
       "3897   1861262    1533540               7.350000                       1\n",
       "3898   1861308    1459852               0.250000                       1\n",
       "3899   1860997    1532188               5.383333                       2\n",
       "\n",
       "[1443 rows x 4 columns]"
      ]
     },
     "execution_count": 17,
     "metadata": {},
     "output_type": "execute_result"
    }
   ],
   "source": [
    "save2"
   ]
  },
  {
   "cell_type": "code",
   "execution_count": null,
   "id": "6801261e",
   "metadata": {},
   "outputs": [],
   "source": [
    "save2.to_csv('final.csv')"
   ]
  },
  {
   "cell_type": "code",
   "execution_count": null,
   "id": "5d1da24a",
   "metadata": {},
   "outputs": [],
   "source": [
    "# Weekly updates is fine, need to ask Regional to help upload this to MB or use GDS instead"
   ]
  },
  {
   "cell_type": "code",
   "execution_count": null,
   "id": "952157c6",
   "metadata": {},
   "outputs": [],
   "source": [
    "# save.to_csv('final2.csv')"
   ]
  }
 ],
 "metadata": {
  "kernelspec": {
   "display_name": "Python 3 (ipykernel)",
   "language": "python",
   "name": "python3"
  },
  "language_info": {
   "codemirror_mode": {
    "name": "ipython",
    "version": 3
   },
   "file_extension": ".py",
   "mimetype": "text/x-python",
   "name": "python",
   "nbconvert_exporter": "python",
   "pygments_lexer": "ipython3",
   "version": "3.10.8"
  }
 },
 "nbformat": 4,
 "nbformat_minor": 5
}
