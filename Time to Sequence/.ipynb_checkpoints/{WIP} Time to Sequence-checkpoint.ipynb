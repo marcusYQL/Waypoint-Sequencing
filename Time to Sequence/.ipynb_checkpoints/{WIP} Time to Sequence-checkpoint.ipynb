{
 "cells": [
  {
   "cell_type": "code",
   "execution_count": null,
   "id": "9723576b",
   "metadata": {},
   "outputs": [],
   "source": [
    "import pandas as pd\n",
    "import matplotlib.pyplot as plt"
   ]
  },
  {
   "cell_type": "code",
   "execution_count": null,
   "id": "d287d04d",
   "metadata": {},
   "outputs": [],
   "source": [
    "start = pd.read_csv('start.csv')\n",
    "start['time'] = pd.to_datetime(start['time'],format='%Y-%m-%dT%H:%M:%SZ')\n",
    "start = start[start['time'] >= pd.Timestamp('2023-01-15')]"
   ]
  },
  {
   "cell_type": "code",
   "execution_count": null,
   "id": "8b6526e9",
   "metadata": {},
   "outputs": [],
   "source": [
    "end = pd.read_csv('end.csv')\n",
    "# end['Time'] = pd.to_datetime(end['Time'],unit='s')\n",
    "end['time'] = pd.to_datetime(end['time'],format='%Y-%m-%dT%H:%M:%SZ')\n",
    "end = end[end['time'] >= pd.Timestamp('2023-01-15')]"
   ]
  },
  {
   "cell_type": "code",
   "execution_count": null,
   "id": "68485de5",
   "metadata": {},
   "outputs": [],
   "source": [
    "routes = start[['route_id']].merge(end[['route_id']], on='route_id')['route_id'].unique()"
   ]
  },
  {
   "cell_type": "code",
   "execution_count": null,
   "id": "f5327d7f",
   "metadata": {},
   "outputs": [],
   "source": []
  },
  {
   "cell_type": "code",
   "execution_count": null,
   "id": "612e362f",
   "metadata": {},
   "outputs": [],
   "source": [
    "route_id = []\n",
    "driver_id = []\n",
    "time_sequence = []\n",
    "start_sequence_counter = []\n",
    "for i in routes:\n",
    "    route_id.append(i)\n",
    "    \n",
    "    temp_start = start[start['route_id'] == i]\n",
    "    temp_end = end[end['route_id'] == i]\n",
    "    \n",
    "    start_sequence_counter.append(len(temp_start))\n",
    "    \n",
    "    driver_id.append(temp_start['user_id'].iloc[0])\n",
    "    \n",
    "    earliest = temp_start['time'].min()\n",
    "    latest = temp_end['time'].max()\n",
    "    time_sequence.append( (latest-earliest).seconds/60)"
   ]
  },
  {
   "cell_type": "code",
   "execution_count": null,
   "id": "cac0c3ca",
   "metadata": {},
   "outputs": [],
   "source": [
    "save = pd.DataFrame({'route_id':route_id, 'driver_id':driver_id, 'time_to_sequence(min)':time_sequence,'start_sequence_counter':start_sequence_counter})"
   ]
  },
  {
   "cell_type": "code",
   "execution_count": null,
   "id": "b1fcf757",
   "metadata": {},
   "outputs": [],
   "source": [
    "save"
   ]
  },
  {
   "cell_type": "code",
   "execution_count": null,
   "id": "ba18b77a",
   "metadata": {},
   "outputs": [],
   "source": [
    "plt.hist(save['time_to_sequence(min)'])"
   ]
  },
  {
   "cell_type": "code",
   "execution_count": null,
   "id": "fbdeaea0",
   "metadata": {},
   "outputs": [],
   "source": [
    "save2 = save[save['time_to_sequence(min)']<=180]"
   ]
  },
  {
   "cell_type": "code",
   "execution_count": null,
   "id": "c8a817bd",
   "metadata": {},
   "outputs": [],
   "source": [
    "plt.hist(save2['time_to_sequence(min)'])"
   ]
  },
  {
   "cell_type": "code",
   "execution_count": null,
   "id": "39756b60",
   "metadata": {},
   "outputs": [],
   "source": [
    "save2"
   ]
  },
  {
   "cell_type": "code",
   "execution_count": null,
   "id": "6801261e",
   "metadata": {},
   "outputs": [],
   "source": [
    "save2.to_csv('final.csv')"
   ]
  },
  {
   "cell_type": "code",
   "execution_count": null,
   "id": "5d1da24a",
   "metadata": {},
   "outputs": [],
   "source": [
    "# Weekly updates is fine, need to ask Regional to help upload this to MB or use GDS instead"
   ]
  },
  {
   "cell_type": "code",
   "execution_count": null,
   "id": "952157c6",
   "metadata": {},
   "outputs": [],
   "source": [
    "# save.to_csv('final2.csv')"
   ]
  }
 ],
 "metadata": {
  "kernelspec": {
   "display_name": "Python 3 (ipykernel)",
   "language": "python",
   "name": "python3"
  },
  "language_info": {
   "codemirror_mode": {
    "name": "ipython",
    "version": 3
   },
   "file_extension": ".py",
   "mimetype": "text/x-python",
   "name": "python",
   "nbconvert_exporter": "python",
   "pygments_lexer": "ipython3",
   "version": "3.11.4"
  }
 },
 "nbformat": 4,
 "nbformat_minor": 5
}
